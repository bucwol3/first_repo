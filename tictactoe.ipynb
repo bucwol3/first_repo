{
 "cells": [
  {
   "cell_type": "code",
   "execution_count": 57,
   "metadata": {},
   "outputs": [
    {
     "name": "stdout",
     "output_type": "stream",
     "text": [
      "Hello and welcome to Tic-Tac-Toe\n",
      "The player with the 'X' starts, then he takes turns with the player 'O'\n",
      "[1] [2] [3]\n",
      "[4] [5] [6]\n",
      "[7] [8] [9]\n",
      "___________\n",
      "[X] [2] [3]\n",
      "[4] [5] [6]\n",
      "[7] [8] [9]\n",
      "___________\n",
      "[X] [O] [3]\n",
      "[4] [5] [6]\n",
      "[7] [8] [9]\n",
      "___________\n",
      "[X] [O] [X]\n",
      "[4] [5] [6]\n",
      "[7] [8] [9]\n",
      "___________\n",
      "[X] [O] [X]\n",
      "[O] [5] [6]\n",
      "[7] [8] [9]\n",
      "___________\n",
      "[X] [O] [X]\n",
      "[O] [X] [6]\n",
      "[7] [8] [9]\n",
      "___________\n",
      "[X] [O] [X]\n",
      "[O] [X] [O]\n",
      "[7] [8] [9]\n",
      "___________\n",
      "[X] [O] [X]\n",
      "[O] [X] [O]\n",
      "[7] [X] [9]\n",
      "___________\n",
      "[X] [O] [X]\n",
      "[O] [X] [O]\n",
      "[O] [X] [9]\n",
      "___________\n",
      "[X] [O] [X]\n",
      "[O] [X] [O]\n",
      "[O] [X] [X]\n",
      "___________\n",
      "We seam to have a winner\n",
      "[X] [O] [X]\n",
      "[O] [X] [O]\n",
      "[O] [X] [X]\n",
      "___________\n"
     ]
    },
    {
     "ename": "ValueError",
     "evalue": "invalid literal for int() with base 10: ''",
     "output_type": "error",
     "traceback": [
      "\u001b[0;31m---------------------------------------------------------------------------\u001b[0m",
      "\u001b[0;31mValueError\u001b[0m                                Traceback (most recent call last)",
      "\u001b[0;32m<ipython-input-57-0010d014e775>\u001b[0m in \u001b[0;36m<module>\u001b[0;34m\u001b[0m\n\u001b[1;32m     70\u001b[0m \u001b[0mshowboard\u001b[0m\u001b[0;34m(\u001b[0m\u001b[0;34m)\u001b[0m\u001b[0;34m\u001b[0m\u001b[0;34m\u001b[0m\u001b[0m\n\u001b[1;32m     71\u001b[0m \u001b[0;32mwhile\u001b[0m \u001b[0mgameover\u001b[0m \u001b[0;34m==\u001b[0m \u001b[0;32mFalse\u001b[0m\u001b[0;34m:\u001b[0m\u001b[0;34m\u001b[0m\u001b[0;34m\u001b[0m\u001b[0m\n\u001b[0;32m---> 72\u001b[0;31m     \u001b[0mplayerinput\u001b[0m\u001b[0;34m(\u001b[0m\u001b[0mpsymbol\u001b[0m\u001b[0;34m)\u001b[0m\u001b[0;34m\u001b[0m\u001b[0;34m\u001b[0m\u001b[0m\n\u001b[0m\u001b[1;32m     73\u001b[0m     \u001b[0;32mif\u001b[0m \u001b[0mwinner\u001b[0m\u001b[0;34m(\u001b[0m\u001b[0mboard\u001b[0m\u001b[0;34m,\u001b[0m \u001b[0mgameover\u001b[0m\u001b[0;34m)\u001b[0m \u001b[0;34m==\u001b[0m \u001b[0;32mTrue\u001b[0m\u001b[0;34m:\u001b[0m\u001b[0;34m\u001b[0m\u001b[0;34m\u001b[0m\u001b[0m\n\u001b[1;32m     74\u001b[0m         \u001b[0;32mbreak\u001b[0m\u001b[0;34m\u001b[0m\u001b[0;34m\u001b[0m\u001b[0m\n",
      "\u001b[0;32m<ipython-input-57-0010d014e775>\u001b[0m in \u001b[0;36mplayerinput\u001b[0;34m(symbol)\u001b[0m\n\u001b[1;32m     23\u001b[0m     \u001b[0;32mwhile\u001b[0m \u001b[0mtaken\u001b[0m \u001b[0;34m==\u001b[0m \u001b[0;32mTrue\u001b[0m\u001b[0;34m:\u001b[0m\u001b[0;34m\u001b[0m\u001b[0;34m\u001b[0m\u001b[0m\n\u001b[1;32m     24\u001b[0m         \u001b[0;32mif\u001b[0m \u001b[0mboard\u001b[0m\u001b[0;34m[\u001b[0m\u001b[0mchoice\u001b[0m\u001b[0;34m]\u001b[0m \u001b[0;34m==\u001b[0m \u001b[0;34m\"[X]\"\u001b[0m \u001b[0;32mor\u001b[0m \u001b[0mboard\u001b[0m\u001b[0;34m[\u001b[0m\u001b[0mchoice\u001b[0m\u001b[0;34m]\u001b[0m \u001b[0;34m==\u001b[0m \u001b[0;34m\"[O]\"\u001b[0m\u001b[0;34m:\u001b[0m\u001b[0;34m\u001b[0m\u001b[0;34m\u001b[0m\u001b[0m\n\u001b[0;32m---> 25\u001b[0;31m             \u001b[0mchoice\u001b[0m \u001b[0;34m=\u001b[0m \u001b[0mint\u001b[0m\u001b[0;34m(\u001b[0m\u001b[0minput\u001b[0m\u001b[0;34m(\u001b[0m\u001b[0;34m\"try again please, this field was taken\"\u001b[0m\u001b[0;34m)\u001b[0m\u001b[0;34m)\u001b[0m\u001b[0;34m\u001b[0m\u001b[0;34m\u001b[0m\u001b[0m\n\u001b[0m\u001b[1;32m     26\u001b[0m         \u001b[0;32melse\u001b[0m\u001b[0;34m:\u001b[0m\u001b[0;34m\u001b[0m\u001b[0;34m\u001b[0m\u001b[0m\n\u001b[1;32m     27\u001b[0m             \u001b[0mtaken\u001b[0m \u001b[0;34m=\u001b[0m \u001b[0;32mFalse\u001b[0m\u001b[0;34m\u001b[0m\u001b[0;34m\u001b[0m\u001b[0m\n",
      "\u001b[0;31mValueError\u001b[0m: invalid literal for int() with base 10: ''"
     ]
    }
   ],
   "source": [
    "board = [\"[1]\", \"[2]\", \"[3]\", \"[4]\", \"[5]\", \"[6]\", \"[7]\", \"[8]\", \"[9]\"]\n",
    "psymbol = \"[X]\"\n",
    "gameover = False\n",
    "counter = 0 "
   ]
  },
  {
   "cell_type": "code",
   "execution_count": null,
   "metadata": {},
   "outputs": [],
   "source": [
    "\n",
    "def showboard():\n",
    "    print(board[0], board[1], board[2])\n",
    "    print(board[3], board[4], board[5])\n",
    "    print(board[6], board[7], board[8])\n",
    "    print(\"___________\")"
   ]
  },
  {
   "cell_type": "code",
   "execution_count": null,
   "metadata": {},
   "outputs": [],
   "source": [
    "\n",
    "def playersturn(psymbol):\n",
    "    if psymbol == \"[X]\":\n",
    "        psymbol = \"[O]\"\n",
    "        return psymbol\n",
    "    else:\n",
    "        psymbol = \"[X]\"\n",
    "        return psymbol"
   ]
  },
  {
   "cell_type": "code",
   "execution_count": null,
   "metadata": {},
   "outputs": [],
   "source": [
    "\n",
    "def playerinput(symbol):    \n",
    "    choice = int(input(\"insert the field you want to mark! (numbered 1-9)\"))\n",
    "    taken = True\n",
    "    while taken == True:\n",
    "        if board[choice] == \"[X]\" or board[choice] == \"[O]\":\n",
    "            choice = int(input(\"try again please, this field was taken\"))\n",
    "        else:\n",
    "            taken = False\n",
    "            board[choice] = symbol\n",
    "    return board"
   ]
  },
  {
   "cell_type": "code",
   "execution_count": null,
   "metadata": {},
   "outputs": [],
   "source": [
    "\n",
    "def winner(board, over):\n",
    "    if board[0] == board[1] and board[0] == board [2]:\n",
    "        print(\"We seam to have a winner\")\n",
    "        showboard()\n",
    "        over = True\n",
    "        return over\n",
    "    elif board[3] == board[4] and board[3] == board [5]:\n",
    "        print(\"We seam to have a winner\")\n",
    "        showboard()\n",
    "        over = True\n",
    "    elif board[6] == board[7] and board[6] == board [8]:\n",
    "        print(\"We seam to have a winner\")\n",
    "        showboard()\n",
    "        over = True\n",
    "    elif board[0] == board[3] and board[0] == board [6]:\n",
    "        print(\"We seam to have a winner\")\n",
    "        showboard()\n",
    "        over = True\n",
    "    elif board[1] == board[4] and board[1] == board [7]:\n",
    "        print(\"We seam to have a winner\")\n",
    "        showboard()\n",
    "        over = True\n",
    "    elif board[2] == board[5] and board[2] == board [8]:\n",
    "        print(\"We seam to have a winner\")\n",
    "        showboard()\n",
    "        over = True\n",
    "    elif board[0] == board[4] and board[0] == board [8]:\n",
    "        showboard()\n",
    "        print(\"We seam to have a winner\")\n",
    "        over = True\n",
    "    elif board[2] == board[4] and board[2] == board [6]:\n",
    "        showboard()\n",
    "        print(\"We seam to have a winner\")\n",
    "        over = True\n",
    "    else: \n",
    "        over = False"
   ]
  },
  {
   "cell_type": "code",
   "execution_count": null,
   "metadata": {},
   "outputs": [],
   "source": [
    "\n",
    "print(\"Hello and welcome to Tic-Tac-Toe\")\n",
    "print(\"The player with the 'X' starts, then he takes turns with the player 'O'\")\n",
    "showboard()\n",
    "while gameover == False:\n",
    "    playerinput(psymbol)\n",
    "    if winner(board, gameover) == True:\n",
    "        break\n",
    "    elif counter >= 9:\n",
    "        print (\"DRAW\")\n",
    "        break\n",
    "    counter += 1\n",
    "    psymbol = playersturn(psymbol)\n",
    "    showboard()\n",
    "\n",
    "\n"
   ]
  }
 ],
 "metadata": {
  "interpreter": {
   "hash": "ab3d85a18739f6fff6a9c8c504adc2ff9340867b576dede986e2ee74c099e4e5"
  },
  "kernelspec": {
   "display_name": "Python 3.9.7 64-bit ('nf_base': conda)",
   "language": "python",
   "name": "python3"
  },
  "language_info": {
   "codemirror_mode": {
    "name": "ipython",
    "version": 3
   },
   "file_extension": ".py",
   "mimetype": "text/x-python",
   "name": "python",
   "nbconvert_exporter": "python",
   "pygments_lexer": "ipython3",
   "version": "3.9.7"
  },
  "orig_nbformat": 4
 },
 "nbformat": 4,
 "nbformat_minor": 2
}
