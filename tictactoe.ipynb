{
 "cells": [
  {
   "cell_type": "code",
   "execution_count": 27,
   "metadata": {},
   "outputs": [],
   "source": [
    "board = [\"[1]\", \"[2]\", \"[3]\", \"[4]\", \"[5]\", \"[6]\", \"[7]\", \"[8]\", \"[9]\"]\n",
    "psymbol = \"[X]\"\n",
    "gameover = False\n",
    "counter = 0 "
   ]
  },
  {
   "cell_type": "code",
   "execution_count": 28,
   "metadata": {},
   "outputs": [],
   "source": [
    "\n",
    "def showboard():\n",
    "    print(board[0], board[1], board[2])\n",
    "    print(board[3], board[4], board[5])\n",
    "    print(board[6], board[7], board[8])\n",
    "    print(\"___________\")"
   ]
  },
  {
   "cell_type": "code",
   "execution_count": 29,
   "metadata": {},
   "outputs": [],
   "source": [
    "\n",
    "def playersturn(psymbol):\n",
    "    if psymbol == \"[X]\":\n",
    "        psymbol = \"[O]\"\n",
    "        return psymbol\n",
    "    else:\n",
    "        psymbol = \"[X]\"\n",
    "        return psymbol"
   ]
  },
  {
   "cell_type": "code",
   "execution_count": 30,
   "metadata": {},
   "outputs": [],
   "source": [
    "\n",
    "def playerinput(symbol):    \n",
    "    choice = input(\"insert the field you want to mark! (numbered 1-9)\")\n",
    "    while choice.isdigit() == False or int(choice) <1 or int(choice)>9:\n",
    "        choice = input(\"please provide a whole NUMBER between 1 and 9\")\n",
    "    choice = int(choice)-1\n",
    "    taken = True\n",
    "    while taken == True:\n",
    "        if board[choice] == \"[X]\" or board[choice] == \"[O]\":\n",
    "            choice = int(input(\"try again please, this field was taken\"))\n",
    "        else:\n",
    "            taken = False\n",
    "            board[choice] = symbol\n",
    "    return board"
   ]
  },
  {
   "cell_type": "code",
   "execution_count": 31,
   "metadata": {},
   "outputs": [],
   "source": [
    "\n",
    "def winner(board, over):\n",
    "    if board[0] == board[1] and board[0] == board [2]:\n",
    "        print(\"We seam to have a winner\")\n",
    "        showboard()\n",
    "        over = True\n",
    "        return over\n",
    "    elif board[3] == board[4] and board[3] == board [5]:\n",
    "        print(\"We seam to have a winner\")\n",
    "        showboard()\n",
    "        over = True\n",
    "        return over\n",
    "    elif board[6] == board[7] and board[6] == board [8]:\n",
    "        print(\"We seam to have a winner\")\n",
    "        showboard()\n",
    "        over = True\n",
    "        return over\n",
    "    elif board[0] == board[3] and board[0] == board [6]:\n",
    "        print(\"We seam to have a winner\")\n",
    "        showboard()\n",
    "        over = True\n",
    "        return over\n",
    "    elif board[1] == board[4] and board[1] == board [7]:\n",
    "        print(\"We seam to have a winner\")\n",
    "        showboard()\n",
    "        over = True\n",
    "        return over\n",
    "    elif board[2] == board[5] and board[2] == board [8]:\n",
    "        print(\"We seam to have a winner\")\n",
    "        showboard()\n",
    "        over = True\n",
    "        return over\n",
    "    elif board[0] == board[4] and board[0] == board [8]:\n",
    "        showboard()\n",
    "        print(\"We seam to have a winner\")\n",
    "        over = True\n",
    "        return over\n",
    "    elif board[2] == board[4] and board[2] == board [6]:\n",
    "        showboard()\n",
    "        print(\"We seam to have a winner\")\n",
    "        over = True\n",
    "        return over\n",
    "    else: \n",
    "        over = False\n",
    "        return over"
   ]
  },
  {
   "cell_type": "code",
   "execution_count": 32,
   "metadata": {},
   "outputs": [
    {
     "name": "stdout",
     "output_type": "stream",
     "text": [
      "Hello and welcome to Tic-Tac-Toe\n",
      "The player with the 'X' starts, then he takes turns with the player 'O'\n",
      "[1] [2] [3]\n",
      "[4] [5] [6]\n",
      "[7] [8] [9]\n",
      "___________\n",
      "[1] [2] [3]\n",
      "[4] [X] [6]\n",
      "[7] [8] [9]\n",
      "___________\n",
      "[1] [O] [3]\n",
      "[4] [X] [6]\n",
      "[7] [8] [9]\n",
      "___________\n",
      "[1] [O] [3]\n",
      "[X] [X] [6]\n",
      "[7] [8] [9]\n",
      "___________\n",
      "[O] [O] [3]\n",
      "[X] [X] [6]\n",
      "[7] [8] [9]\n",
      "___________\n",
      "We seam to have a winner\n",
      "[O] [O] [3]\n",
      "[X] [X] [X]\n",
      "[7] [8] [9]\n",
      "___________\n",
      "Thanks for playing. Run the script again to play again\n"
     ]
    }
   ],
   "source": [
    "\n",
    "print(\"Hello and welcome to Tic-Tac-Toe\")\n",
    "print(\"The player with the 'X' starts, then he takes turns with the player 'O'\")\n",
    "showboard()\n",
    "while gameover == False:\n",
    "    playerinput(psymbol)\n",
    "    if winner(board, gameover) == True:\n",
    "        gameover = True\n",
    "        break\n",
    "    elif counter >= 8:\n",
    "        print (\"DRAW\")\n",
    "        break\n",
    "    counter += 1\n",
    "    psymbol = playersturn(psymbol)\n",
    "    showboard()\n",
    "print(\"Thanks for playing. Run the script again to play again\")\n",
    "\n"
   ]
  },
  {
   "cell_type": "code",
   "execution_count": null,
   "metadata": {},
   "outputs": [],
   "source": []
  }
 ],
 "metadata": {
  "interpreter": {
   "hash": "ab3d85a18739f6fff6a9c8c504adc2ff9340867b576dede986e2ee74c099e4e5"
  },
  "kernelspec": {
   "display_name": "Python 3.9.7 64-bit ('nf_base': conda)",
   "language": "python",
   "name": "python3"
  },
  "language_info": {
   "codemirror_mode": {
    "name": "ipython",
    "version": 3
   },
   "file_extension": ".py",
   "mimetype": "text/x-python",
   "name": "python",
   "nbconvert_exporter": "python",
   "pygments_lexer": "ipython3",
   "version": "3.9.7"
  },
  "orig_nbformat": 4
 },
 "nbformat": 4,
 "nbformat_minor": 2
}
